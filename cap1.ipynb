{
 "metadata": {
  "language_info": {
   "codemirror_mode": {
    "name": "ipython",
    "version": 3
   },
   "file_extension": ".py",
   "mimetype": "text/x-python",
   "name": "python",
   "nbconvert_exporter": "python",
   "pygments_lexer": "ipython3",
   "version": "3.8.3-final"
  },
  "orig_nbformat": 2,
  "kernelspec": {
   "name": "python3",
   "display_name": "Python 3",
   "language": "python"
  }
 },
 "nbformat": 4,
 "nbformat_minor": 2,
 "cells": [
  {
   "cell_type": "code",
   "execution_count": 1,
   "metadata": {},
   "outputs": [],
   "source": [
    "import matplotlib as plt\n",
    "import matplotlib.pyplot as plt\n",
    "import numpy as np\n",
    "import pandas as pd\n",
    "import sklearn"
   ]
  },
  {
   "source": [
    "#### Carregar os dados"
   ],
   "cell_type": "markdown",
   "metadata": {}
  },
  {
   "cell_type": "code",
   "execution_count": 29,
   "metadata": {},
   "outputs": [],
   "source": [
    "ocde = pd.read_csv(\"https://raw.githubusercontent.com/ageron/handson-ml/master/datasets/lifesat/oecd_bli_2015.csv\", thousands=\",\")"
   ]
  },
  {
   "cell_type": "code",
   "execution_count": 30,
   "metadata": {},
   "outputs": [
    {
     "output_type": "execute_result",
     "data": {
      "text/plain": [
       "     LOCATION         Country INDICATOR  \\\n",
       "0         AUS       Australia   HO_BASE   \n",
       "1         AUT         Austria   HO_BASE   \n",
       "2         BEL         Belgium   HO_BASE   \n",
       "3         CAN          Canada   HO_BASE   \n",
       "4         CZE  Czech Republic   HO_BASE   \n",
       "...       ...             ...       ...   \n",
       "3287      EST         Estonia   WL_TNOW   \n",
       "3288      ISR          Israel   WL_TNOW   \n",
       "3289      RUS          Russia   WL_TNOW   \n",
       "3290      SVN        Slovenia   WL_TNOW   \n",
       "3291     OECD    OECD - Total   WL_TNOW   \n",
       "\n",
       "                                      Indicator MEASURE Measure INEQUALITY  \\\n",
       "0            Dwellings without basic facilities       L   Value        TOT   \n",
       "1            Dwellings without basic facilities       L   Value        TOT   \n",
       "2            Dwellings without basic facilities       L   Value        TOT   \n",
       "3            Dwellings without basic facilities       L   Value        TOT   \n",
       "4            Dwellings without basic facilities       L   Value        TOT   \n",
       "...                                         ...     ...     ...        ...   \n",
       "3287  Time devoted to leisure and personal care       L   Value        WMN   \n",
       "3288  Time devoted to leisure and personal care       L   Value        WMN   \n",
       "3289  Time devoted to leisure and personal care       L   Value        WMN   \n",
       "3290  Time devoted to leisure and personal care       L   Value        WMN   \n",
       "3291  Time devoted to leisure and personal care       L   Value        WMN   \n",
       "\n",
       "     Inequality Unit Code        Unit  PowerCode Code PowerCode  \\\n",
       "0         Total        PC  Percentage               0     units   \n",
       "1         Total        PC  Percentage               0     units   \n",
       "2         Total        PC  Percentage               0     units   \n",
       "3         Total        PC  Percentage               0     units   \n",
       "4         Total        PC  Percentage               0     units   \n",
       "...         ...       ...         ...             ...       ...   \n",
       "3287      Women      HOUR       Hours               0     units   \n",
       "3288      Women      HOUR       Hours               0     units   \n",
       "3289      Women      HOUR       Hours               0     units   \n",
       "3290      Women      HOUR       Hours               0     units   \n",
       "3291      Women      HOUR       Hours               0     units   \n",
       "\n",
       "      Reference Period Code  Reference Period  Value Flag Codes  \\\n",
       "0                       NaN               NaN   1.10          E   \n",
       "1                       NaN               NaN   1.00        NaN   \n",
       "2                       NaN               NaN   2.00        NaN   \n",
       "3                       NaN               NaN   0.20        NaN   \n",
       "4                       NaN               NaN   0.90        NaN   \n",
       "...                     ...               ...    ...        ...   \n",
       "3287                    NaN               NaN  14.43        NaN   \n",
       "3288                    NaN               NaN  14.24          E   \n",
       "3289                    NaN               NaN  14.75          E   \n",
       "3290                    NaN               NaN  14.12        NaN   \n",
       "3291                    NaN               NaN  14.74        NaN   \n",
       "\n",
       "                Flags  \n",
       "0     Estimated value  \n",
       "1                 NaN  \n",
       "2                 NaN  \n",
       "3                 NaN  \n",
       "4                 NaN  \n",
       "...               ...  \n",
       "3287              NaN  \n",
       "3288  Estimated value  \n",
       "3289  Estimated value  \n",
       "3290              NaN  \n",
       "3291              NaN  \n",
       "\n",
       "[3292 rows x 17 columns]"
      ],
      "text/html": "<div>\n<style scoped>\n    .dataframe tbody tr th:only-of-type {\n        vertical-align: middle;\n    }\n\n    .dataframe tbody tr th {\n        vertical-align: top;\n    }\n\n    .dataframe thead th {\n        text-align: right;\n    }\n</style>\n<table border=\"1\" class=\"dataframe\">\n  <thead>\n    <tr style=\"text-align: right;\">\n      <th></th>\n      <th>LOCATION</th>\n      <th>Country</th>\n      <th>INDICATOR</th>\n      <th>Indicator</th>\n      <th>MEASURE</th>\n      <th>Measure</th>\n      <th>INEQUALITY</th>\n      <th>Inequality</th>\n      <th>Unit Code</th>\n      <th>Unit</th>\n      <th>PowerCode Code</th>\n      <th>PowerCode</th>\n      <th>Reference Period Code</th>\n      <th>Reference Period</th>\n      <th>Value</th>\n      <th>Flag Codes</th>\n      <th>Flags</th>\n    </tr>\n  </thead>\n  <tbody>\n    <tr>\n      <th>0</th>\n      <td>AUS</td>\n      <td>Australia</td>\n      <td>HO_BASE</td>\n      <td>Dwellings without basic facilities</td>\n      <td>L</td>\n      <td>Value</td>\n      <td>TOT</td>\n      <td>Total</td>\n      <td>PC</td>\n      <td>Percentage</td>\n      <td>0</td>\n      <td>units</td>\n      <td>NaN</td>\n      <td>NaN</td>\n      <td>1.10</td>\n      <td>E</td>\n      <td>Estimated value</td>\n    </tr>\n    <tr>\n      <th>1</th>\n      <td>AUT</td>\n      <td>Austria</td>\n      <td>HO_BASE</td>\n      <td>Dwellings without basic facilities</td>\n      <td>L</td>\n      <td>Value</td>\n      <td>TOT</td>\n      <td>Total</td>\n      <td>PC</td>\n      <td>Percentage</td>\n      <td>0</td>\n      <td>units</td>\n      <td>NaN</td>\n      <td>NaN</td>\n      <td>1.00</td>\n      <td>NaN</td>\n      <td>NaN</td>\n    </tr>\n    <tr>\n      <th>2</th>\n      <td>BEL</td>\n      <td>Belgium</td>\n      <td>HO_BASE</td>\n      <td>Dwellings without basic facilities</td>\n      <td>L</td>\n      <td>Value</td>\n      <td>TOT</td>\n      <td>Total</td>\n      <td>PC</td>\n      <td>Percentage</td>\n      <td>0</td>\n      <td>units</td>\n      <td>NaN</td>\n      <td>NaN</td>\n      <td>2.00</td>\n      <td>NaN</td>\n      <td>NaN</td>\n    </tr>\n    <tr>\n      <th>3</th>\n      <td>CAN</td>\n      <td>Canada</td>\n      <td>HO_BASE</td>\n      <td>Dwellings without basic facilities</td>\n      <td>L</td>\n      <td>Value</td>\n      <td>TOT</td>\n      <td>Total</td>\n      <td>PC</td>\n      <td>Percentage</td>\n      <td>0</td>\n      <td>units</td>\n      <td>NaN</td>\n      <td>NaN</td>\n      <td>0.20</td>\n      <td>NaN</td>\n      <td>NaN</td>\n    </tr>\n    <tr>\n      <th>4</th>\n      <td>CZE</td>\n      <td>Czech Republic</td>\n      <td>HO_BASE</td>\n      <td>Dwellings without basic facilities</td>\n      <td>L</td>\n      <td>Value</td>\n      <td>TOT</td>\n      <td>Total</td>\n      <td>PC</td>\n      <td>Percentage</td>\n      <td>0</td>\n      <td>units</td>\n      <td>NaN</td>\n      <td>NaN</td>\n      <td>0.90</td>\n      <td>NaN</td>\n      <td>NaN</td>\n    </tr>\n    <tr>\n      <th>...</th>\n      <td>...</td>\n      <td>...</td>\n      <td>...</td>\n      <td>...</td>\n      <td>...</td>\n      <td>...</td>\n      <td>...</td>\n      <td>...</td>\n      <td>...</td>\n      <td>...</td>\n      <td>...</td>\n      <td>...</td>\n      <td>...</td>\n      <td>...</td>\n      <td>...</td>\n      <td>...</td>\n      <td>...</td>\n    </tr>\n    <tr>\n      <th>3287</th>\n      <td>EST</td>\n      <td>Estonia</td>\n      <td>WL_TNOW</td>\n      <td>Time devoted to leisure and personal care</td>\n      <td>L</td>\n      <td>Value</td>\n      <td>WMN</td>\n      <td>Women</td>\n      <td>HOUR</td>\n      <td>Hours</td>\n      <td>0</td>\n      <td>units</td>\n      <td>NaN</td>\n      <td>NaN</td>\n      <td>14.43</td>\n      <td>NaN</td>\n      <td>NaN</td>\n    </tr>\n    <tr>\n      <th>3288</th>\n      <td>ISR</td>\n      <td>Israel</td>\n      <td>WL_TNOW</td>\n      <td>Time devoted to leisure and personal care</td>\n      <td>L</td>\n      <td>Value</td>\n      <td>WMN</td>\n      <td>Women</td>\n      <td>HOUR</td>\n      <td>Hours</td>\n      <td>0</td>\n      <td>units</td>\n      <td>NaN</td>\n      <td>NaN</td>\n      <td>14.24</td>\n      <td>E</td>\n      <td>Estimated value</td>\n    </tr>\n    <tr>\n      <th>3289</th>\n      <td>RUS</td>\n      <td>Russia</td>\n      <td>WL_TNOW</td>\n      <td>Time devoted to leisure and personal care</td>\n      <td>L</td>\n      <td>Value</td>\n      <td>WMN</td>\n      <td>Women</td>\n      <td>HOUR</td>\n      <td>Hours</td>\n      <td>0</td>\n      <td>units</td>\n      <td>NaN</td>\n      <td>NaN</td>\n      <td>14.75</td>\n      <td>E</td>\n      <td>Estimated value</td>\n    </tr>\n    <tr>\n      <th>3290</th>\n      <td>SVN</td>\n      <td>Slovenia</td>\n      <td>WL_TNOW</td>\n      <td>Time devoted to leisure and personal care</td>\n      <td>L</td>\n      <td>Value</td>\n      <td>WMN</td>\n      <td>Women</td>\n      <td>HOUR</td>\n      <td>Hours</td>\n      <td>0</td>\n      <td>units</td>\n      <td>NaN</td>\n      <td>NaN</td>\n      <td>14.12</td>\n      <td>NaN</td>\n      <td>NaN</td>\n    </tr>\n    <tr>\n      <th>3291</th>\n      <td>OECD</td>\n      <td>OECD - Total</td>\n      <td>WL_TNOW</td>\n      <td>Time devoted to leisure and personal care</td>\n      <td>L</td>\n      <td>Value</td>\n      <td>WMN</td>\n      <td>Women</td>\n      <td>HOUR</td>\n      <td>Hours</td>\n      <td>0</td>\n      <td>units</td>\n      <td>NaN</td>\n      <td>NaN</td>\n      <td>14.74</td>\n      <td>NaN</td>\n      <td>NaN</td>\n    </tr>\n  </tbody>\n</table>\n<p>3292 rows × 17 columns</p>\n</div>"
     },
     "metadata": {},
     "execution_count": 30
    }
   ],
   "source": [
    "ocde"
   ]
  },
  {
   "cell_type": "code",
   "execution_count": 28,
   "metadata": {},
   "outputs": [
    {
     "output_type": "execute_result",
     "data": {
      "text/plain": [
       "Index(['LOCATION', 'Country', 'INDICATOR', 'Indicator', 'MEASURE', 'Measure',\n",
       "       'INEQUALITY', 'Inequality', 'Unit Code', 'Unit', 'PowerCode Code',\n",
       "       'PowerCode', 'Reference Period Code', 'Reference Period', 'Value',\n",
       "       'Flag Codes', 'Flags'],\n",
       "      dtype='object')"
      ]
     },
     "metadata": {},
     "execution_count": 28
    }
   ],
   "source": [
    "ocde.columns"
   ]
  },
  {
   "cell_type": "code",
   "execution_count": 24,
   "metadata": {},
   "outputs": [
    {
     "output_type": "execute_result",
     "data": {
      "text/plain": [
       "             Country  Value\n",
       "0          Australia   1.10\n",
       "1            Austria   1.00\n",
       "2            Belgium   2.00\n",
       "3             Canada   0.20\n",
       "4     Czech Republic   0.90\n",
       "...              ...    ...\n",
       "3287         Estonia  14.43\n",
       "3288          Israel  14.24\n",
       "3289          Russia  14.75\n",
       "3290        Slovenia  14.12\n",
       "3291    OECD - Total  14.74\n",
       "\n",
       "[3292 rows x 2 columns]"
      ],
      "text/html": "<div>\n<style scoped>\n    .dataframe tbody tr th:only-of-type {\n        vertical-align: middle;\n    }\n\n    .dataframe tbody tr th {\n        vertical-align: top;\n    }\n\n    .dataframe thead th {\n        text-align: right;\n    }\n</style>\n<table border=\"1\" class=\"dataframe\">\n  <thead>\n    <tr style=\"text-align: right;\">\n      <th></th>\n      <th>Country</th>\n      <th>Value</th>\n    </tr>\n  </thead>\n  <tbody>\n    <tr>\n      <th>0</th>\n      <td>Australia</td>\n      <td>1.10</td>\n    </tr>\n    <tr>\n      <th>1</th>\n      <td>Austria</td>\n      <td>1.00</td>\n    </tr>\n    <tr>\n      <th>2</th>\n      <td>Belgium</td>\n      <td>2.00</td>\n    </tr>\n    <tr>\n      <th>3</th>\n      <td>Canada</td>\n      <td>0.20</td>\n    </tr>\n    <tr>\n      <th>4</th>\n      <td>Czech Republic</td>\n      <td>0.90</td>\n    </tr>\n    <tr>\n      <th>...</th>\n      <td>...</td>\n      <td>...</td>\n    </tr>\n    <tr>\n      <th>3287</th>\n      <td>Estonia</td>\n      <td>14.43</td>\n    </tr>\n    <tr>\n      <th>3288</th>\n      <td>Israel</td>\n      <td>14.24</td>\n    </tr>\n    <tr>\n      <th>3289</th>\n      <td>Russia</td>\n      <td>14.75</td>\n    </tr>\n    <tr>\n      <th>3290</th>\n      <td>Slovenia</td>\n      <td>14.12</td>\n    </tr>\n    <tr>\n      <th>3291</th>\n      <td>OECD - Total</td>\n      <td>14.74</td>\n    </tr>\n  </tbody>\n</table>\n<p>3292 rows × 2 columns</p>\n</div>"
     },
     "metadata": {},
     "execution_count": 24
    }
   ],
   "source": [
    "ocde = ocde.loc[:, [\"Country\", \"Value\"]]\n",
    "ocde"
   ]
  },
  {
   "cell_type": "code",
   "execution_count": 31,
   "metadata": {},
   "outputs": [],
   "source": [
    "gdp = pd.read_csv(\"https://raw.githubusercontent.com/ageron/handson-ml/master/datasets/lifesat/gdp_per_capita.csv\",\n",
    "                  thousands=\",\",\n",
    "                  delimiter=\"\\t\",\n",
    "                  encoding=\"latin1\",\n",
    "                  na_values=\"n/a\")"
   ]
  },
  {
   "cell_type": "code",
   "execution_count": 32,
   "metadata": {},
   "outputs": [
    {
     "output_type": "execute_result",
     "data": {
      "text/plain": [
       "                                               Country  \\\n",
       "0                                          Afghanistan   \n",
       "1                                              Albania   \n",
       "2                                              Algeria   \n",
       "3                                               Angola   \n",
       "4                                  Antigua and Barbuda   \n",
       "..                                                 ...   \n",
       "185                                            Vietnam   \n",
       "186                                              Yemen   \n",
       "187                                             Zambia   \n",
       "188                                           Zimbabwe   \n",
       "189  International Monetary Fund, World Economic Ou...   \n",
       "\n",
       "                                    Subject Descriptor         Units  Scale  \\\n",
       "0    Gross domestic product per capita, current prices  U.S. dollars  Units   \n",
       "1    Gross domestic product per capita, current prices  U.S. dollars  Units   \n",
       "2    Gross domestic product per capita, current prices  U.S. dollars  Units   \n",
       "3    Gross domestic product per capita, current prices  U.S. dollars  Units   \n",
       "4    Gross domestic product per capita, current prices  U.S. dollars  Units   \n",
       "..                                                 ...           ...    ...   \n",
       "185  Gross domestic product per capita, current prices  U.S. dollars  Units   \n",
       "186  Gross domestic product per capita, current prices  U.S. dollars  Units   \n",
       "187  Gross domestic product per capita, current prices  U.S. dollars  Units   \n",
       "188  Gross domestic product per capita, current prices  U.S. dollars  Units   \n",
       "189                                                NaN           NaN    NaN   \n",
       "\n",
       "                         Country/Series-specific Notes       2015  \\\n",
       "0    See notes for:  Gross domestic product, curren...    599.994   \n",
       "1    See notes for:  Gross domestic product, curren...   3995.383   \n",
       "2    See notes for:  Gross domestic product, curren...   4318.135   \n",
       "3    See notes for:  Gross domestic product, curren...   4100.315   \n",
       "4    See notes for:  Gross domestic product, curren...  14414.302   \n",
       "..                                                 ...        ...   \n",
       "185  See notes for:  Gross domestic product, curren...   2088.344   \n",
       "186  See notes for:  Gross domestic product, curren...   1302.940   \n",
       "187  See notes for:  Gross domestic product, curren...   1350.151   \n",
       "188  See notes for:  Gross domestic product, curren...   1064.350   \n",
       "189                                                NaN        NaN   \n",
       "\n",
       "     Estimates Start After  \n",
       "0                   2013.0  \n",
       "1                   2010.0  \n",
       "2                   2014.0  \n",
       "3                   2014.0  \n",
       "4                   2011.0  \n",
       "..                     ...  \n",
       "185                 2012.0  \n",
       "186                 2008.0  \n",
       "187                 2010.0  \n",
       "188                 2012.0  \n",
       "189                    NaN  \n",
       "\n",
       "[190 rows x 7 columns]"
      ],
      "text/html": "<div>\n<style scoped>\n    .dataframe tbody tr th:only-of-type {\n        vertical-align: middle;\n    }\n\n    .dataframe tbody tr th {\n        vertical-align: top;\n    }\n\n    .dataframe thead th {\n        text-align: right;\n    }\n</style>\n<table border=\"1\" class=\"dataframe\">\n  <thead>\n    <tr style=\"text-align: right;\">\n      <th></th>\n      <th>Country</th>\n      <th>Subject Descriptor</th>\n      <th>Units</th>\n      <th>Scale</th>\n      <th>Country/Series-specific Notes</th>\n      <th>2015</th>\n      <th>Estimates Start After</th>\n    </tr>\n  </thead>\n  <tbody>\n    <tr>\n      <th>0</th>\n      <td>Afghanistan</td>\n      <td>Gross domestic product per capita, current prices</td>\n      <td>U.S. dollars</td>\n      <td>Units</td>\n      <td>See notes for:  Gross domestic product, curren...</td>\n      <td>599.994</td>\n      <td>2013.0</td>\n    </tr>\n    <tr>\n      <th>1</th>\n      <td>Albania</td>\n      <td>Gross domestic product per capita, current prices</td>\n      <td>U.S. dollars</td>\n      <td>Units</td>\n      <td>See notes for:  Gross domestic product, curren...</td>\n      <td>3995.383</td>\n      <td>2010.0</td>\n    </tr>\n    <tr>\n      <th>2</th>\n      <td>Algeria</td>\n      <td>Gross domestic product per capita, current prices</td>\n      <td>U.S. dollars</td>\n      <td>Units</td>\n      <td>See notes for:  Gross domestic product, curren...</td>\n      <td>4318.135</td>\n      <td>2014.0</td>\n    </tr>\n    <tr>\n      <th>3</th>\n      <td>Angola</td>\n      <td>Gross domestic product per capita, current prices</td>\n      <td>U.S. dollars</td>\n      <td>Units</td>\n      <td>See notes for:  Gross domestic product, curren...</td>\n      <td>4100.315</td>\n      <td>2014.0</td>\n    </tr>\n    <tr>\n      <th>4</th>\n      <td>Antigua and Barbuda</td>\n      <td>Gross domestic product per capita, current prices</td>\n      <td>U.S. dollars</td>\n      <td>Units</td>\n      <td>See notes for:  Gross domestic product, curren...</td>\n      <td>14414.302</td>\n      <td>2011.0</td>\n    </tr>\n    <tr>\n      <th>...</th>\n      <td>...</td>\n      <td>...</td>\n      <td>...</td>\n      <td>...</td>\n      <td>...</td>\n      <td>...</td>\n      <td>...</td>\n    </tr>\n    <tr>\n      <th>185</th>\n      <td>Vietnam</td>\n      <td>Gross domestic product per capita, current prices</td>\n      <td>U.S. dollars</td>\n      <td>Units</td>\n      <td>See notes for:  Gross domestic product, curren...</td>\n      <td>2088.344</td>\n      <td>2012.0</td>\n    </tr>\n    <tr>\n      <th>186</th>\n      <td>Yemen</td>\n      <td>Gross domestic product per capita, current prices</td>\n      <td>U.S. dollars</td>\n      <td>Units</td>\n      <td>See notes for:  Gross domestic product, curren...</td>\n      <td>1302.940</td>\n      <td>2008.0</td>\n    </tr>\n    <tr>\n      <th>187</th>\n      <td>Zambia</td>\n      <td>Gross domestic product per capita, current prices</td>\n      <td>U.S. dollars</td>\n      <td>Units</td>\n      <td>See notes for:  Gross domestic product, curren...</td>\n      <td>1350.151</td>\n      <td>2010.0</td>\n    </tr>\n    <tr>\n      <th>188</th>\n      <td>Zimbabwe</td>\n      <td>Gross domestic product per capita, current prices</td>\n      <td>U.S. dollars</td>\n      <td>Units</td>\n      <td>See notes for:  Gross domestic product, curren...</td>\n      <td>1064.350</td>\n      <td>2012.0</td>\n    </tr>\n    <tr>\n      <th>189</th>\n      <td>International Monetary Fund, World Economic Ou...</td>\n      <td>NaN</td>\n      <td>NaN</td>\n      <td>NaN</td>\n      <td>NaN</td>\n      <td>NaN</td>\n      <td>NaN</td>\n    </tr>\n  </tbody>\n</table>\n<p>190 rows × 7 columns</p>\n</div>"
     },
     "metadata": {},
     "execution_count": 32
    }
   ],
   "source": [
    "gdp"
   ]
  },
  {
   "cell_type": "code",
   "execution_count": 23,
   "metadata": {},
   "outputs": [
    {
     "output_type": "execute_result",
     "data": {
      "text/plain": [
       "                                               Country       2015\n",
       "0                                          Afghanistan    599.994\n",
       "1                                              Albania   3995.383\n",
       "2                                              Algeria   4318.135\n",
       "3                                               Angola   4100.315\n",
       "4                                  Antigua and Barbuda  14414.302\n",
       "..                                                 ...        ...\n",
       "185                                            Vietnam   2088.344\n",
       "186                                              Yemen   1302.940\n",
       "187                                             Zambia   1350.151\n",
       "188                                           Zimbabwe   1064.350\n",
       "189  International Monetary Fund, World Economic Ou...        NaN\n",
       "\n",
       "[190 rows x 2 columns]"
      ],
      "text/html": "<div>\n<style scoped>\n    .dataframe tbody tr th:only-of-type {\n        vertical-align: middle;\n    }\n\n    .dataframe tbody tr th {\n        vertical-align: top;\n    }\n\n    .dataframe thead th {\n        text-align: right;\n    }\n</style>\n<table border=\"1\" class=\"dataframe\">\n  <thead>\n    <tr style=\"text-align: right;\">\n      <th></th>\n      <th>Country</th>\n      <th>2015</th>\n    </tr>\n  </thead>\n  <tbody>\n    <tr>\n      <th>0</th>\n      <td>Afghanistan</td>\n      <td>599.994</td>\n    </tr>\n    <tr>\n      <th>1</th>\n      <td>Albania</td>\n      <td>3995.383</td>\n    </tr>\n    <tr>\n      <th>2</th>\n      <td>Algeria</td>\n      <td>4318.135</td>\n    </tr>\n    <tr>\n      <th>3</th>\n      <td>Angola</td>\n      <td>4100.315</td>\n    </tr>\n    <tr>\n      <th>4</th>\n      <td>Antigua and Barbuda</td>\n      <td>14414.302</td>\n    </tr>\n    <tr>\n      <th>...</th>\n      <td>...</td>\n      <td>...</td>\n    </tr>\n    <tr>\n      <th>185</th>\n      <td>Vietnam</td>\n      <td>2088.344</td>\n    </tr>\n    <tr>\n      <th>186</th>\n      <td>Yemen</td>\n      <td>1302.940</td>\n    </tr>\n    <tr>\n      <th>187</th>\n      <td>Zambia</td>\n      <td>1350.151</td>\n    </tr>\n    <tr>\n      <th>188</th>\n      <td>Zimbabwe</td>\n      <td>1064.350</td>\n    </tr>\n    <tr>\n      <th>189</th>\n      <td>International Monetary Fund, World Economic Ou...</td>\n      <td>NaN</td>\n    </tr>\n  </tbody>\n</table>\n<p>190 rows × 2 columns</p>\n</div>"
     },
     "metadata": {},
     "execution_count": 23
    }
   ],
   "source": [
    "gdp = gdp.loc[:, [\"Country\", \"2015\"]]\n",
    "gdp"
   ]
  },
  {
   "source": [
    "#### Preparar os dados"
   ],
   "cell_type": "markdown",
   "metadata": {}
  },
  {
   "cell_type": "code",
   "execution_count": 8,
   "metadata": {},
   "outputs": [],
   "source": [
    "# Parei aqui. Os dados do livro são diferentes dos disponibilizados no Github"
   ]
  }
 ]
}